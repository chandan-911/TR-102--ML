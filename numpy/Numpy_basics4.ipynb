{
  "cells": [
    {
      "cell_type": "code",
      "execution_count": 2,
      "metadata": {
        "id": "vrzpZsvsEp-1"
      },
      "outputs": [],
      "source": [
        "import numpy as np\n",
        "from numpy import random"
      ]
    },
    {
      "cell_type": "code",
      "execution_count": null,
      "metadata": {
        "id": "8petFqZwEtYJ"
      },
      "outputs": [],
      "source": [
        "# randint()--->"
      ]
    },
    {
      "cell_type": "code",
      "execution_count": 3,
      "metadata": {
        "id": "jPF4xhJoFvrF"
      },
      "outputs": [],
      "source": [
        "zx= random.randint(100)"
      ]
    },
    {
      "cell_type": "code",
      "execution_count": 4,
      "metadata": {
        "colab": {
          "base_uri": "https://localhost:8080/"
        },
        "id": "c_k2dnjmF3Ad",
        "outputId": "31737f2d-f1f7-423c-ef3e-bea84cb0c88e"
      },
      "outputs": [
        {
          "data": {
            "text/plain": [
              "60"
            ]
          },
          "execution_count": 4,
          "metadata": {},
          "output_type": "execute_result"
        }
      ],
      "source": [
        "zx"
      ]
    },
    {
      "cell_type": "code",
      "execution_count": 5,
      "metadata": {
        "colab": {
          "base_uri": "https://localhost:8080/"
        },
        "id": "vE1L0wnaF4B6",
        "outputId": "e4cf4da0-89d8-4e80-a813-499b00ee08e4"
      },
      "outputs": [
        {
          "data": {
            "text/plain": [
              "23"
            ]
          },
          "execution_count": 5,
          "metadata": {},
          "output_type": "execute_result"
        }
      ],
      "source": [
        "zx= random.randint(10,30)\n",
        "zx"
      ]
    },
    {
      "cell_type": "code",
      "execution_count": 6,
      "metadata": {
        "id": "duKfYsJXGF2U"
      },
      "outputs": [],
      "source": [
        "# size--->"
      ]
    },
    {
      "cell_type": "code",
      "execution_count": 7,
      "metadata": {
        "colab": {
          "base_uri": "https://localhost:8080/"
        },
        "id": "4XAFo59OGP5M",
        "outputId": "6462e252-f1a5-4b83-a9c9-89a11bca571b"
      },
      "outputs": [
        {
          "data": {
            "text/plain": [
              "array([45, 10, 15, 11, 47])"
            ]
          },
          "execution_count": 7,
          "metadata": {},
          "output_type": "execute_result"
        }
      ],
      "source": [
        "zx=random.randint(10,50,size=5)\n",
        "zx\n"
      ]
    },
    {
      "cell_type": "code",
      "execution_count": null,
      "metadata": {
        "colab": {
          "base_uri": "https://localhost:8080/"
        },
        "id": "uUutTv2IGXK5",
        "outputId": "96104edf-f569-44d6-a2a6-4388a8f79f9d"
      },
      "outputs": [
        {
          "data": {
            "text/plain": [
              "array([[36, 28, 46, 33, 49],\n",
              "       [15, 15, 33, 14, 35],\n",
              "       [36, 17, 13, 27, 38]])"
            ]
          },
          "execution_count": 12,
          "metadata": {},
          "output_type": "execute_result"
        }
      ],
      "source": [
        "zx=random.randint(11,50,size=(3,5))\n",
        "zx\n"
      ]
    },
    {
      "cell_type": "code",
      "execution_count": null,
      "metadata": {
        "colab": {
          "base_uri": "https://localhost:8080/"
        },
        "id": "DPUklaAMGk7J",
        "outputId": "08883b3e-01ae-4c4d-ebda-1a21e24b9e27"
      },
      "outputs": [
        {
          "data": {
            "text/plain": [
              "array([[[3, 3, 1],\n",
              "        [4, 1, 2],\n",
              "        [4, 1, 3],\n",
              "        [2, 2, 1]],\n",
              "\n",
              "       [[2, 4, 3],\n",
              "        [4, 1, 2],\n",
              "        [4, 4, 3],\n",
              "        [2, 3, 4]],\n",
              "\n",
              "       [[3, 4, 1],\n",
              "        [3, 4, 3],\n",
              "        [2, 1, 4],\n",
              "        [4, 4, 1]]])"
            ]
          },
          "execution_count": 13,
          "metadata": {},
          "output_type": "execute_result"
        }
      ],
      "source": [
        "px=random.randint(1,5,size=(3,4,3))\n",
        "px"
      ]
    },
    {
      "cell_type": "code",
      "execution_count": null,
      "metadata": {
        "id": "TwCTXxmSG1Ph"
      },
      "outputs": [],
      "source": [
        "# randint------> generate elements from sppecific range to specxific range\n",
        "# randint(start,end,size=(dimentins))"
      ]
    },
    {
      "cell_type": "code",
      "execution_count": null,
      "metadata": {
        "id": "Uy3BUkX0HH0e"
      },
      "outputs": [],
      "source": [
        "# rand()-------> 0to1 elements will be generated"
      ]
    },
    {
      "cell_type": "code",
      "execution_count": null,
      "metadata": {
        "colab": {
          "base_uri": "https://localhost:8080/"
        },
        "id": "Lzs24HstHMZp",
        "outputId": "bea64bee-deed-4b6e-bcb2-6575f8b0c96d"
      },
      "outputs": [
        {
          "data": {
            "text/plain": [
              "0.8855461355042433"
            ]
          },
          "execution_count": 17,
          "metadata": {},
          "output_type": "execute_result"
        }
      ],
      "source": [
        "x=random.rand()\n",
        "x"
      ]
    },
    {
      "cell_type": "code",
      "execution_count": null,
      "metadata": {
        "id": "4BOjwsx6HPrW"
      },
      "outputs": [],
      "source": [
        "# x=random.rand(size=(10))\n",
        "# this is not executed like randint"
      ]
    },
    {
      "cell_type": "code",
      "execution_count": null,
      "metadata": {
        "colab": {
          "base_uri": "https://localhost:8080/"
        },
        "id": "CcKr__rJHq9B",
        "outputId": "bb2e89d5-05c0-4ecd-e576-501fbb26cf1b"
      },
      "outputs": [
        {
          "data": {
            "text/plain": [
              "array([0.81337351, 0.96187714, 0.28998169, 0.32504224, 0.30915436,\n",
              "       0.24286164, 0.90484933, 0.46843943, 0.97355617, 0.40948641])"
            ]
          },
          "execution_count": 21,
          "metadata": {},
          "output_type": "execute_result"
        }
      ],
      "source": [
        "x=random.rand(10)\n",
        "x"
      ]
    },
    {
      "cell_type": "code",
      "execution_count": null,
      "metadata": {
        "colab": {
          "base_uri": "https://localhost:8080/"
        },
        "id": "yF6A1uFVHzR5",
        "outputId": "c95e1e5b-29e1-430a-d2d6-6a48c9ff03b4"
      },
      "outputs": [
        {
          "data": {
            "text/plain": [
              "array([[0.03252974, 0.24860414, 0.69098066, 0.98293605, 0.14734475],\n",
              "       [0.08225741, 0.96430458, 0.7087963 , 0.49904712, 0.57829027],\n",
              "       [0.27461896, 0.72837078, 0.16951914, 0.35173769, 0.27680857],\n",
              "       [0.12812942, 0.82927334, 0.60737875, 0.57977001, 0.68127939]])"
            ]
          },
          "execution_count": 22,
          "metadata": {},
          "output_type": "execute_result"
        }
      ],
      "source": [
        "x=random.rand(4,5)\n",
        "x"
      ]
    },
    {
      "cell_type": "code",
      "execution_count": null,
      "metadata": {
        "id": "0odD4UW5JSXm"
      },
      "outputs": [],
      "source": [
        "# random"
      ]
    },
    {
      "cell_type": "code",
      "execution_count": null,
      "metadata": {
        "colab": {
          "base_uri": "https://localhost:8080/"
        },
        "id": "IsGt72EDH8RC",
        "outputId": "5c0284fc-0a13-4642-c47e-29c712fe68a4"
      },
      "outputs": [
        {
          "data": {
            "text/plain": [
              "0.26252794688372505"
            ]
          },
          "execution_count": 23,
          "metadata": {},
          "output_type": "execute_result"
        }
      ],
      "source": [
        "pq=random.random()\n",
        "pq"
      ]
    },
    {
      "cell_type": "code",
      "execution_count": null,
      "metadata": {
        "id": "VxznvrQbIe9C"
      },
      "outputs": [],
      "source": [
        "# choice"
      ]
    },
    {
      "cell_type": "code",
      "execution_count": null,
      "metadata": {
        "colab": {
          "base_uri": "https://localhost:8080/"
        },
        "id": "B8MolgliIKuC",
        "outputId": "76df3ff5-4f44-4b8a-aaba-a94e34452709"
      },
      "outputs": [
        {
          "data": {
            "text/plain": [
              "array([1, 2, 6, 5, 1])"
            ]
          },
          "execution_count": 26,
          "metadata": {},
          "output_type": "execute_result"
        }
      ],
      "source": [
        "zx=random.choice([1,2,3,4,5,6,7,8,9],size=5)\n",
        "zx"
      ]
    },
    {
      "cell_type": "code",
      "execution_count": null,
      "metadata": {
        "colab": {
          "base_uri": "https://localhost:8080/"
        },
        "id": "zLKRBhQcIbol",
        "outputId": "c49d3b4c-f1bd-48a2-fd50-8cbc0b9a4687"
      },
      "outputs": [
        {
          "data": {
            "text/plain": [
              "array([[7, 5, 6, 1, 4, 8],\n",
              "       [5, 1, 6, 5, 6, 2],\n",
              "       [8, 8, 8, 1, 1, 9],\n",
              "       [8, 5, 7, 4, 1, 2],\n",
              "       [7, 6, 6, 6, 7, 4]])"
            ]
          },
          "execution_count": 27,
          "metadata": {},
          "output_type": "execute_result"
        }
      ],
      "source": [
        "zx=random.choice([1,2,3,4,5,6,7,8,9],size=(5,6))\n",
        "zx"
      ]
    },
    {
      "cell_type": "code",
      "execution_count": null,
      "metadata": {
        "id": "kMfIfTdGI2JW"
      },
      "outputs": [],
      "source": [
        "# shuffle"
      ]
    },
    {
      "cell_type": "code",
      "execution_count": null,
      "metadata": {
        "id": "U4P9LRcmI4um"
      },
      "outputs": [],
      "source": [
        "zx=np.array([1,2,3,4,5,6,7,8,9])\n"
      ]
    },
    {
      "cell_type": "code",
      "execution_count": null,
      "metadata": {
        "id": "Tyaf0VpyJAU5"
      },
      "outputs": [],
      "source": [
        "pq=random.shuffle(zx)\n"
      ]
    },
    {
      "cell_type": "code",
      "execution_count": null,
      "metadata": {
        "colab": {
          "base_uri": "https://localhost:8080/"
        },
        "id": "HR6EPwu4JGks",
        "outputId": "0df5499d-40ab-4c2b-faae-c24a4eaa7df9"
      },
      "outputs": [
        {
          "data": {
            "text/plain": [
              "array([1, 8, 6, 4, 2, 3, 5, 9, 7])"
            ]
          },
          "execution_count": 33,
          "metadata": {},
          "output_type": "execute_result"
        }
      ],
      "source": [
        "zx"
      ]
    },
    {
      "cell_type": "code",
      "execution_count": null,
      "metadata": {
        "colab": {
          "base_uri": "https://localhost:8080/"
        },
        "id": "9tOwxRw2JHYp",
        "outputId": "9d7ee09d-a186-4be4-d35c-88d129caf9d4"
      },
      "outputs": [
        {
          "data": {
            "text/plain": [
              "array([1, 2, 3, 4, 5])"
            ]
          },
          "execution_count": 36,
          "metadata": {},
          "output_type": "execute_result"
        }
      ],
      "source": [
        "zx=np.array([1,2,1,2,3,4,1,5,3,3,2,1])\n",
        "np.unique(zx)"
      ]
    },
    {
      "cell_type": "code",
      "execution_count": null,
      "metadata": {
        "id": "kjdV_hStMBt6"
      },
      "outputs": [],
      "source": []
    }
  ],
  "metadata": {
    "colab": {
      "provenance": []
    },
    "kernelspec": {
      "display_name": "Python 3",
      "name": "python3"
    },
    "language_info": {
      "codemirror_mode": {
        "name": "ipython",
        "version": 3
      },
      "file_extension": ".py",
      "mimetype": "text/x-python",
      "name": "python",
      "nbconvert_exporter": "python",
      "pygments_lexer": "ipython3",
      "version": "3.10.12"
    }
  },
  "nbformat": 4,
  "nbformat_minor": 0
}
