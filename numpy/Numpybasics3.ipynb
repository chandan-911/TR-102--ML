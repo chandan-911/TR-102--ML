{
  "nbformat": 4,
  "nbformat_minor": 0,
  "metadata": {
    "colab": {
      "provenance": []
    },
    "kernelspec": {
      "name": "python3",
      "display_name": "Python 3"
    },
    "language_info": {
      "name": "python"
    }
  },
  "cells": [
    {
      "cell_type": "code",
      "execution_count": null,
      "metadata": {
        "id": "nHAIX9nwfl_l"
      },
      "outputs": [],
      "source": [
        "# # numpy\n",
        "# # Ndarrays\n",
        "# dimentions\n",
        "#      1d,2d,3d\n",
        "# # ndim\n",
        "# # shape\n",
        "# indexing\n",
        "# # slicing"
      ]
    },
    {
      "cell_type": "code",
      "source": [
        "import numpy as np"
      ],
      "metadata": {
        "id": "obS_rMV4fvV6"
      },
      "execution_count": null,
      "outputs": []
    },
    {
      "cell_type": "code",
      "source": [
        "arr= np.array([12,23,4,56,67,89])"
      ],
      "metadata": {
        "id": "fpfsDYi3fx1U"
      },
      "execution_count": null,
      "outputs": []
    },
    {
      "cell_type": "code",
      "source": [
        "# adding new element in nd array"
      ],
      "metadata": {
        "id": "S9WGojyWgCHq"
      },
      "execution_count": null,
      "outputs": []
    },
    {
      "cell_type": "code",
      "source": [
        "# append() -->"
      ],
      "metadata": {
        "id": "t3XCtFUcjvVM"
      },
      "execution_count": null,
      "outputs": []
    },
    {
      "cell_type": "code",
      "source": [
        "# np.append{object name,element}"
      ],
      "metadata": {
        "id": "NfYqD1hqgIBa"
      },
      "execution_count": null,
      "outputs": []
    },
    {
      "cell_type": "code",
      "source": [
        "arr"
      ],
      "metadata": {
        "colab": {
          "base_uri": "https://localhost:8080/"
        },
        "id": "KVB4pHihj9Jp",
        "outputId": "e7c0e70f-29ee-42ec-d6f9-da7c5e17b39d"
      },
      "execution_count": null,
      "outputs": [
        {
          "output_type": "execute_result",
          "data": {
            "text/plain": [
              "array([12, 23,  4, 56, 67, 89])"
            ]
          },
          "metadata": {},
          "execution_count": 29
        }
      ]
    },
    {
      "cell_type": "code",
      "source": [
        "xyz=np.append(arr,100)"
      ],
      "metadata": {
        "id": "WptS44nngUTX"
      },
      "execution_count": null,
      "outputs": []
    },
    {
      "cell_type": "code",
      "source": [
        "xyz"
      ],
      "metadata": {
        "colab": {
          "base_uri": "https://localhost:8080/"
        },
        "id": "fYpK_ObegY3y",
        "outputId": "dfa3077d-6de9-460d-e8f8-fd6db2cc8991"
      },
      "execution_count": null,
      "outputs": [
        {
          "output_type": "execute_result",
          "data": {
            "text/plain": [
              "array([ 12,  23,   4,  56,  67,  89, 100])"
            ]
          },
          "metadata": {},
          "execution_count": 7
        }
      ]
    },
    {
      "cell_type": "code",
      "source": [
        "# insert"
      ],
      "metadata": {
        "id": "20Sl4ADcgicK"
      },
      "execution_count": null,
      "outputs": []
    },
    {
      "cell_type": "code",
      "source": [
        "# np.insert(objectname,indexnumber,element)"
      ],
      "metadata": {
        "id": "VO11hP-HgoIU"
      },
      "execution_count": null,
      "outputs": []
    },
    {
      "cell_type": "code",
      "source": [
        "xyz"
      ],
      "metadata": {
        "colab": {
          "base_uri": "https://localhost:8080/"
        },
        "id": "rNNpVFTzg25u",
        "outputId": "af7531eb-0a5f-4ad5-e94b-02bc381908ec"
      },
      "execution_count": null,
      "outputs": [
        {
          "output_type": "execute_result",
          "data": {
            "text/plain": [
              "array([ 12,  23,   4,  56,  67,  89, 100])"
            ]
          },
          "metadata": {},
          "execution_count": 10
        }
      ]
    },
    {
      "cell_type": "code",
      "source": [
        "np.insert(xyz,2,120)"
      ],
      "metadata": {
        "colab": {
          "base_uri": "https://localhost:8080/"
        },
        "id": "RrquI9utg44m",
        "outputId": "a0e9ec74-1e09-41fa-bb4a-9872618a503d"
      },
      "execution_count": null,
      "outputs": [
        {
          "output_type": "execute_result",
          "data": {
            "text/plain": [
              "array([ 12,  23, 120,   4,  56,  67,  89, 100])"
            ]
          },
          "metadata": {},
          "execution_count": 31
        }
      ]
    },
    {
      "cell_type": "code",
      "source": [
        "np.insert(xyz,3,[23,4,5,78])"
      ],
      "metadata": {
        "colab": {
          "base_uri": "https://localhost:8080/"
        },
        "id": "RevYAtvNg-wt",
        "outputId": "1b49c68b-50f4-4cac-c6cd-559d0dc3d0f1"
      },
      "execution_count": null,
      "outputs": [
        {
          "output_type": "execute_result",
          "data": {
            "text/plain": [
              "array([ 12,  23,   4,  23,   4,   5,  78,  56,  67,  89, 100])"
            ]
          },
          "metadata": {},
          "execution_count": 32
        }
      ]
    },
    {
      "cell_type": "code",
      "source": [
        "abc=np.array([1,2,3,4,5,6,7,8])"
      ],
      "metadata": {
        "id": "4cH4evk9lT9a"
      },
      "execution_count": null,
      "outputs": []
    },
    {
      "cell_type": "code",
      "source": [
        "index_number=[1,4,6]\n",
        "elements=[10,20,30]"
      ],
      "metadata": {
        "id": "FG1HXxAKhJc8"
      },
      "execution_count": null,
      "outputs": []
    },
    {
      "cell_type": "code",
      "source": [
        "np.insert(abc,index_number,elements)"
      ],
      "metadata": {
        "colab": {
          "base_uri": "https://localhost:8080/"
        },
        "id": "5grs04m6hnA3",
        "outputId": "269d953a-fc9f-4099-94b1-57b6dc750adc"
      },
      "execution_count": null,
      "outputs": [
        {
          "output_type": "execute_result",
          "data": {
            "text/plain": [
              "array([ 1, 10,  2,  3,  4, 20,  5,  6, 30,  7,  8])"
            ]
          },
          "metadata": {},
          "execution_count": 40
        }
      ]
    },
    {
      "cell_type": "code",
      "source": [
        "arr3=np.array([1,2,3,4,5,6])"
      ],
      "metadata": {
        "id": "yn0HkufFiLCI"
      },
      "execution_count": null,
      "outputs": []
    },
    {
      "cell_type": "code",
      "source": [
        "np.insert(abc,[1,4,6],[10,20,30])"
      ],
      "metadata": {
        "colab": {
          "base_uri": "https://localhost:8080/"
        },
        "id": "0cCD6pWDmMDc",
        "outputId": "c37af1a5-3248-417a-8bda-1fcfef40e631"
      },
      "execution_count": null,
      "outputs": [
        {
          "output_type": "execute_result",
          "data": {
            "text/plain": [
              "array([ 1, 10,  2,  3,  4, 20,  5,  6, 30,  7,  8])"
            ]
          },
          "metadata": {},
          "execution_count": 41
        }
      ]
    },
    {
      "cell_type": "code",
      "source": [
        "# replacing elements in array/update elements"
      ],
      "metadata": {
        "id": "VF__nWFChwvr"
      },
      "execution_count": null,
      "outputs": []
    },
    {
      "cell_type": "code",
      "source": [
        "arr3=np.array([1,2,3,4,5,6,7,8])"
      ],
      "metadata": {
        "id": "qrSBFns5md5l"
      },
      "execution_count": null,
      "outputs": []
    },
    {
      "cell_type": "code",
      "source": [
        "# ObjectName[indexnumber]=new_element"
      ],
      "metadata": {
        "id": "SVpwqZ5sh6PN"
      },
      "execution_count": null,
      "outputs": []
    },
    {
      "cell_type": "code",
      "source": [
        "arr3[2]=100"
      ],
      "metadata": {
        "id": "JORMOy5dmxRr"
      },
      "execution_count": null,
      "outputs": []
    },
    {
      "cell_type": "code",
      "source": [
        "arr3"
      ],
      "metadata": {
        "colab": {
          "base_uri": "https://localhost:8080/"
        },
        "id": "YSJjGAQOiFg8",
        "outputId": "b5d47402-76d8-4d72-e1c2-b339a6188cff"
      },
      "execution_count": null,
      "outputs": [
        {
          "output_type": "execute_result",
          "data": {
            "text/plain": [
              "array([  1,   2, 100,   4,   5,   6])"
            ]
          },
          "metadata": {},
          "execution_count": 44
        }
      ]
    },
    {
      "cell_type": "code",
      "source": [
        "arr3=np.array([1,2,3,4,5,6,7,8])"
      ],
      "metadata": {
        "id": "VTe7hslMnRBf"
      },
      "execution_count": null,
      "outputs": []
    },
    {
      "cell_type": "code",
      "source": [
        "arr3[[1,4,-1]]=[13,14,15]"
      ],
      "metadata": {
        "id": "R-qGdT5di3Hf"
      },
      "execution_count": null,
      "outputs": []
    },
    {
      "cell_type": "code",
      "source": [
        "arr3"
      ],
      "metadata": {
        "colab": {
          "base_uri": "https://localhost:8080/"
        },
        "id": "ReQEQ1_inJ7h",
        "outputId": "e1ce3f4a-18b1-4186-8334-df9e332bca38"
      },
      "execution_count": null,
      "outputs": [
        {
          "output_type": "execute_result",
          "data": {
            "text/plain": [
              "array([ 1, 13,  3,  4, 14,  6,  7, 15])"
            ]
          },
          "metadata": {},
          "execution_count": 50
        }
      ]
    },
    {
      "cell_type": "code",
      "source": [
        "# delete elements in np array"
      ],
      "metadata": {
        "id": "Dhdr8qnlic9D"
      },
      "execution_count": null,
      "outputs": []
    },
    {
      "cell_type": "code",
      "source": [
        "np.delete(arr3,2)"
      ],
      "metadata": {
        "colab": {
          "base_uri": "https://localhost:8080/"
        },
        "id": "SPsTaZrkiymO",
        "outputId": "3f8c16a8-54c5-4be5-b46d-c496e6296313"
      },
      "execution_count": null,
      "outputs": [
        {
          "output_type": "execute_result",
          "data": {
            "text/plain": [
              "array([ 1, 13,  4, 14,  6,  7, 15])"
            ]
          },
          "metadata": {},
          "execution_count": 52
        }
      ]
    },
    {
      "cell_type": "code",
      "source": [
        "np.delete(arr3,-1)"
      ],
      "metadata": {
        "colab": {
          "base_uri": "https://localhost:8080/"
        },
        "id": "u_u_9ZL4ncLB",
        "outputId": "cee88c06-3edd-4801-bdc7-99f0334b9130"
      },
      "execution_count": null,
      "outputs": [
        {
          "output_type": "execute_result",
          "data": {
            "text/plain": [
              "array([ 1, 13,  3,  4, 14,  6,  7])"
            ]
          },
          "metadata": {},
          "execution_count": 53
        }
      ]
    },
    {
      "cell_type": "code",
      "source": [
        "np.delete(arr3,[1,2,-2])"
      ],
      "metadata": {
        "colab": {
          "base_uri": "https://localhost:8080/"
        },
        "id": "Gra9dYdgsKXO",
        "outputId": "2bb63c6d-8c40-475d-96ab-8d027a639c6b"
      },
      "execution_count": null,
      "outputs": [
        {
          "output_type": "execute_result",
          "data": {
            "text/plain": [
              "array([ 1,  4, 14,  6, 15])"
            ]
          },
          "metadata": {},
          "execution_count": 54
        }
      ]
    },
    {
      "cell_type": "code",
      "source": [
        "# append\n",
        "# insert\n",
        "# replace element\n",
        "# delete"
      ],
      "metadata": {
        "id": "ZXxZBeFjscgm"
      },
      "execution_count": null,
      "outputs": []
    },
    {
      "cell_type": "code",
      "source": [
        "xyz=np.array([1,2,3,4,5,6])\n"
      ],
      "metadata": {
        "id": "ZtuheLzRsgze"
      },
      "execution_count": null,
      "outputs": []
    },
    {
      "cell_type": "code",
      "source": [
        "np.insert(xyz,[0],[10,11,12,13,14])"
      ],
      "metadata": {
        "colab": {
          "base_uri": "https://localhost:8080/"
        },
        "id": "cVMjZ_PJs5wY",
        "outputId": "e2792fda-61fd-4caf-bb67-c4926b0bc863"
      },
      "execution_count": null,
      "outputs": [
        {
          "output_type": "execute_result",
          "data": {
            "text/plain": [
              "array([10, 11, 12, 13, 14,  1,  2,  3,  4,  5,  6])"
            ]
          },
          "metadata": {},
          "execution_count": 61
        }
      ]
    },
    {
      "cell_type": "code",
      "source": [
        "# own work\n",
        "# 2 x 2 = 2, 2 x 3 = 4 ,2 x 3 = 6"
      ],
      "metadata": {
        "id": "YQ7qMhhwtGSB"
      },
      "execution_count": null,
      "outputs": []
    },
    {
      "cell_type": "code",
      "source": [
        "zx=np.array([])"
      ],
      "metadata": {
        "id": "TuWYM0beuW3u"
      },
      "execution_count": null,
      "outputs": []
    },
    {
      "cell_type": "code",
      "source": [
        "zx=[]\n",
        "for i in range(1,11):\n",
        "  zx.append(f\"2 x {i} = {2*i}\")\n"
      ],
      "metadata": {
        "id": "z9VUlaaTt4U6"
      },
      "execution_count": null,
      "outputs": []
    },
    {
      "cell_type": "code",
      "source": [
        "zx"
      ],
      "metadata": {
        "colab": {
          "base_uri": "https://localhost:8080/"
        },
        "id": "-MpwZWNuuaIm",
        "outputId": "d2e1336c-eba3-4363-d28e-709f14257eed"
      },
      "execution_count": null,
      "outputs": [
        {
          "output_type": "execute_result",
          "data": {
            "text/plain": [
              "['2 x 1 = 2',\n",
              " '2 x 2 = 4',\n",
              " '2 x 3 = 6',\n",
              " '2 x 4 = 8',\n",
              " '2 x 5 = 10',\n",
              " '2 x 6 = 12',\n",
              " '2 x 7 = 14',\n",
              " '2 x 8 = 16',\n",
              " '2 x 9 = 18',\n",
              " '2 x 10 = 20']"
            ]
          },
          "metadata": {},
          "execution_count": 93
        }
      ]
    },
    {
      "cell_type": "code",
      "source": [
        "zx = np.array([])"
      ],
      "metadata": {
        "id": "NlGISk5-uo5y"
      },
      "execution_count": null,
      "outputs": []
    },
    {
      "cell_type": "code",
      "source": [
        "for i in range(1,11):\n",
        "  zx=np.append(zx,f\"2 x {i} = {2*i}\")"
      ],
      "metadata": {
        "id": "N_dpAGDdvegC"
      },
      "execution_count": null,
      "outputs": []
    },
    {
      "cell_type": "code",
      "source": [
        "zx"
      ],
      "metadata": {
        "colab": {
          "base_uri": "https://localhost:8080/"
        },
        "id": "HroZO5Z4vxSn",
        "outputId": "e93dff78-fa43-4e6b-e51a-3f4218c1c943"
      },
      "execution_count": null,
      "outputs": [
        {
          "output_type": "execute_result",
          "data": {
            "text/plain": [
              "array(['2 x 1 = 2', '2 x 2 = 4', '2 x 3 = 6', '2 x 4 = 8', '2 x 5 = 10',\n",
              "       '2 x 6 = 12', '2 x 7 = 14', '2 x 8 = 16', '2 x 9 = 18',\n",
              "       '2 x 10 = 20'], dtype='<U32')"
            ]
          },
          "metadata": {},
          "execution_count": 72
        }
      ]
    },
    {
      "cell_type": "code",
      "source": [
        "# where()  ----> help to get index number of the data\n"
      ],
      "metadata": {
        "id": "-PT7kE9mvymg"
      },
      "execution_count": null,
      "outputs": []
    },
    {
      "cell_type": "code",
      "source": [
        "arr = np.array([12, 23, 34, 45, 56, 67, 45, 34, 23, 34, 23])\n"
      ],
      "metadata": {
        "id": "ApA9Q9M2v-we"
      },
      "execution_count": null,
      "outputs": []
    },
    {
      "cell_type": "code",
      "source": [
        "# np.where(object with condation)\n"
      ],
      "metadata": {
        "id": "YTSbyCa-wD3m"
      },
      "execution_count": null,
      "outputs": []
    },
    {
      "cell_type": "code",
      "source": [
        "# np.where(arr)\n"
      ],
      "metadata": {
        "id": "yge_d0fbwHG6"
      },
      "execution_count": null,
      "outputs": []
    },
    {
      "cell_type": "code",
      "source": [
        "# ==\n",
        "# !=\n",
        "# >\n",
        "# <\n",
        "# <=\n",
        "# >="
      ],
      "metadata": {
        "id": "Q81BcGXzwJnq"
      },
      "execution_count": null,
      "outputs": []
    },
    {
      "cell_type": "code",
      "source": [
        "np.where(arr==67)"
      ],
      "metadata": {
        "colab": {
          "base_uri": "https://localhost:8080/"
        },
        "id": "W7RV4Ed4wOnz",
        "outputId": "86e89f62-3d51-4acf-a799-41bfcfcd7e18"
      },
      "execution_count": null,
      "outputs": [
        {
          "output_type": "execute_result",
          "data": {
            "text/plain": [
              "(array([5]),)"
            ]
          },
          "metadata": {},
          "execution_count": 81
        }
      ]
    },
    {
      "cell_type": "code",
      "source": [
        "np.where(arr==45)"
      ],
      "metadata": {
        "colab": {
          "base_uri": "https://localhost:8080/"
        },
        "id": "_mSOktKPwVJn",
        "outputId": "78d25338-c57b-492f-e689-7116036586b6"
      },
      "execution_count": null,
      "outputs": [
        {
          "output_type": "execute_result",
          "data": {
            "text/plain": [
              "(array([3, 6]),)"
            ]
          },
          "metadata": {},
          "execution_count": 82
        }
      ]
    },
    {
      "cell_type": "code",
      "source": [
        "np.where(arr>=47)"
      ],
      "metadata": {
        "colab": {
          "base_uri": "https://localhost:8080/"
        },
        "id": "NrOCB3z_wmsJ",
        "outputId": "1c212151-aa63-4352-a670-65d7e237cf6c"
      },
      "execution_count": null,
      "outputs": [
        {
          "output_type": "execute_result",
          "data": {
            "text/plain": [
              "(array([4, 5]),)"
            ]
          },
          "metadata": {},
          "execution_count": 83
        }
      ]
    },
    {
      "cell_type": "code",
      "source": [
        "np.where(arr<=46)"
      ],
      "metadata": {
        "colab": {
          "base_uri": "https://localhost:8080/"
        },
        "id": "T2XV0pJowvyH",
        "outputId": "6c1dcc85-7e49-4642-b323-9f76913543c3"
      },
      "execution_count": null,
      "outputs": [
        {
          "output_type": "execute_result",
          "data": {
            "text/plain": [
              "(array([ 0,  1,  2,  3,  6,  7,  8,  9, 10]),)"
            ]
          },
          "metadata": {},
          "execution_count": 84
        }
      ]
    },
    {
      "cell_type": "code",
      "source": [
        "# range() -----> python\n"
      ],
      "metadata": {
        "id": "ejydNnI_w6Br"
      },
      "execution_count": null,
      "outputs": []
    },
    {
      "cell_type": "code",
      "source": [
        "# arange()\n"
      ],
      "metadata": {
        "id": "jfa1wsR8xA6T"
      },
      "execution_count": null,
      "outputs": []
    },
    {
      "cell_type": "code",
      "source": [
        "# np.arange(start, end, increment)\n"
      ],
      "metadata": {
        "id": "ONl1-Zz9xCuj"
      },
      "execution_count": null,
      "outputs": []
    },
    {
      "cell_type": "code",
      "source": [
        "arr3=np.arange(1,21)"
      ],
      "metadata": {
        "id": "i5rr_eK7xGGt"
      },
      "execution_count": null,
      "outputs": []
    },
    {
      "cell_type": "code",
      "source": [
        "arr3"
      ],
      "metadata": {
        "colab": {
          "base_uri": "https://localhost:8080/"
        },
        "id": "g2yKkLJAxSjA",
        "outputId": "2ff0b981-eb07-4651-8683-3a6a38249de7"
      },
      "execution_count": null,
      "outputs": [
        {
          "output_type": "execute_result",
          "data": {
            "text/plain": [
              "array([ 1,  2,  3,  4,  5,  6,  7,  8,  9, 10, 11, 12, 13, 14, 15, 16, 17,\n",
              "       18, 19, 20])"
            ]
          },
          "metadata": {},
          "execution_count": 89
        }
      ]
    },
    {
      "cell_type": "code",
      "source": [
        "arr4=np.arange(1,21,2)"
      ],
      "metadata": {
        "id": "sPGskgK5xUtn"
      },
      "execution_count": null,
      "outputs": []
    },
    {
      "cell_type": "code",
      "source": [
        "arr4"
      ],
      "metadata": {
        "colab": {
          "base_uri": "https://localhost:8080/"
        },
        "id": "NI7a-hISxaQa",
        "outputId": "20380779-1df1-412d-f593-78bdb74ad376"
      },
      "execution_count": null,
      "outputs": [
        {
          "output_type": "execute_result",
          "data": {
            "text/plain": [
              "array([ 1,  3,  5,  7,  9, 11, 13, 15, 17, 19])"
            ]
          },
          "metadata": {},
          "execution_count": 91
        }
      ]
    },
    {
      "cell_type": "code",
      "source": [],
      "metadata": {
        "id": "7RCFF9cIxcQJ"
      },
      "execution_count": null,
      "outputs": []
    }
  ]
}